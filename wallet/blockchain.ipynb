{
 "cells": [
  {
   "cell_type": "code",
   "execution_count": 18,
   "id": "a172f767-05d0-49a1-8b9f-19684f43e8f4",
   "metadata": {},
   "outputs": [],
   "source": [
    "import pprint\n",
    "import binascii\n",
    "import mnemonic\n",
    "import bip32utils"
   ]
  },
  {
   "cell_type": "code",
   "execution_count": 45,
   "id": "56523e2d-0922-4c71-a30b-b8ea37b1d0cd",
   "metadata": {},
   "outputs": [
    {
     "name": "stdout",
     "output_type": "stream",
     "text": [
      "{'Child_0': {'address': '1E7qr6mPxkvm8Pa4pJPsdUNkmHyDmcREQ7',\n",
      "             'bip32_extended_private_key': 'xprvA2RwmeT4azRweUEGTVshKwN9aQRjK8MJYLbfhVxfMK9hZfJ4ArA4oWLSPs48TKE9rfDRHnGSBUKiUBR5Y8osWyvZxZAALUqzmNZwwzhCXMY',\n",
      "             'bip32_root_key': 'xprv9s21ZrQH143K3EDva94VWRTi3AEmAUmVBK36LAdmNbjpYF48URZ7BQ1BA8GNx9NhYrrPhQ5tCjpBsBhJGqDAEmRUzkVhYVFPxRuoaJ4g9et',\n",
      "             'coin': 'BTC',\n",
      "             'mnemonic_words': 'include tooth chase amused clutch job silk '\n",
      "                               'between remove material slush boy',\n",
      "             'path': \"m/0'/1'/0'/0\",\n",
      "             'privatekey': 'KxyDdsSgKkx6koPdJggAzXXiinECaL4jE9HVuJCLw5nWmziWtWqB',\n",
      "             'publickey': '023bbdfd1dddaa5ea6137d1e99afd426592d0e9d05a798f647219336f93f962479'},\n",
      " 'Child_1': {'address': '1PkTHuZnswMm1twtL6hxEethkyUYjfmVQj',\n",
      "             'bip32_extended_private_key': 'xprvA2RwmeT4azRwh1z9rpsc46opPZbVRUC15q8gBETvoZi8SaxbokAX3wBnXpexZgbpwprsrk6zPWSyJe1ZxMUaWkxhxn9MC9FuBa8TP9cSnNd',\n",
      "             'bip32_root_key': 'xprv9s21ZrQH143K3EDva94VWRTi3AEmAUmVBK36LAdmNbjpYF48URZ7BQ1BA8GNx9NhYrrPhQ5tCjpBsBhJGqDAEmRUzkVhYVFPxRuoaJ4g9et',\n",
      "             'coin': 'BTC',\n",
      "             'mnemonic_words': 'include tooth chase amused clutch job silk '\n",
      "                               'between remove material slush boy',\n",
      "             'path': \"m/0'/1'/0'/1\",\n",
      "             'privatekey': 'L1UJJ5t9QLTGSkKSPx41U7DsxGGE8F8cSdHg2jCm6N5twFSWiNZg',\n",
      "             'publickey': '0214ae65291bad22c668a1cb7be10a9987afc46f69e20d01be52513eb119033a96'},\n",
      " 'Child_2': {'address': '1LtkhZ6bjeUr9jjucpGiRz5BGhMTUjGSoR',\n",
      "             'bip32_extended_private_key': 'xprvA2RwmeT4azRwjXBQeAgfsxm19aLB8HQECcza7tuMSHsC45YdJAa4VrMAv454dtZqXR9EmpxnTt6J8GTacreBeA3HAVKjgY76q12gQs7BtiP',\n",
      "             'bip32_root_key': 'xprv9s21ZrQH143K3EDva94VWRTi3AEmAUmVBK36LAdmNbjpYF48URZ7BQ1BA8GNx9NhYrrPhQ5tCjpBsBhJGqDAEmRUzkVhYVFPxRuoaJ4g9et',\n",
      "             'coin': 'BTC',\n",
      "             'mnemonic_words': 'include tooth chase amused clutch job silk '\n",
      "                               'between remove material slush boy',\n",
      "             'path': \"m/0'/1'/0'/2\",\n",
      "             'privatekey': 'L3DsDxBJKTiQABptT14LqmWVzJfaDsKdbTN6sKCtbdQxoMKDbaSp',\n",
      "             'publickey': '03378d6dfb1b0a335d08058cfaec2769a9e7949a91a215227d750907140e8964b5'}}\n"
     ]
    }
   ],
   "source": [
    "def bip39(mnemonic_words, children):\n",
    "    # mnemonic_words: 12 word mnemonic.\n",
    "    #children: positive integer for num of address desired.    FUTURE IMPLEMENT...\n",
    "    # choose coin\n",
    "    #- return main account information\n",
    "    #'''    \n",
    "    mobj = mnemonic.Mnemonic(\"english\")\n",
    "    seed = mobj.to_seed(mnemonic_words)    \n",
    "    holder = {}    \n",
    "    if children < 0:\n",
    "        raise ValueError('Children must be positive.')    \n",
    "    for child in range(children):        \n",
    "        bip32_root_key_obj = bip32utils.BIP32Key.fromEntropy(seed)\n",
    "        bip32_child_key_obj = bip32_root_key_obj.ChildKey(\n",
    "            44 + bip32utils.BIP32_HARDEN\n",
    "                ).ChildKey(\n",
    "                0 + bip32utils.BIP32_HARDEN\n",
    "                ).ChildKey(\n",
    "            0 + bip32utils.BIP32_HARDEN\n",
    "            ).ChildKey(0).ChildKey(child)        \n",
    "        template = {\n",
    "        'mnemonic_words': mnemonic_words,\n",
    "        'bip32_root_key': bip32_root_key_obj.ExtendedKey(),\n",
    "        'bip32_extended_private_key': bip32_child_key_obj.ExtendedKey(),\n",
    "        'path': f\"m/0'/1'/0'/{child}\",\n",
    "        'address': bip32_child_key_obj.Address(),\n",
    "        'publickey': binascii.hexlify(bip32_child_key_obj.PublicKey()).decode(),\n",
    "        'privatekey': bip32_child_key_obj.WalletImportFormat(),\n",
    "        'coin': 'BTC'\n",
    "        }        \n",
    "        holder[f'Child_{child}'] = template\n",
    "    return holder\n",
    "\n",
    "mnemonic_words = \"include tooth chase amused clutch job silk between remove material slush boy\"\n",
    "children = 3\n",
    "pprint.pprint(bip39(mnemonic_words, children))"
   ]
  },
  {
   "cell_type": "code",
   "execution_count": 46,
   "id": "8907e076-9425-4031-9f7d-a1f67931843e",
   "metadata": {},
   "outputs": [
    {
     "data": {
      "text/plain": [
       "['.ipynb_checkpoints',\n",
       " 'blockchain.ipynb',\n",
       " 'constants.py',\n",
       " 'hd-wallet-derive.php',\n",
       " 'Untitled Folder']"
      ]
     },
     "execution_count": 46,
     "metadata": {},
     "output_type": "execute_result"
    }
   ],
   "source": [
    "import os\n",
    "os.listdir()"
   ]
  },
  {
   "cell_type": "code",
   "execution_count": 47,
   "id": "2c6bf6c7-14b2-4891-84ae-ed2fbbe2f8ca",
   "metadata": {},
   "outputs": [
    {
     "data": {
      "text/plain": [
       "['.ipynb_checkpoints',\n",
       " 'blockchain.ipynb',\n",
       " 'constants.py',\n",
       " 'hd-wallet-derive.php',\n",
       " 'Untitled Folder']"
      ]
     },
     "execution_count": 47,
     "metadata": {},
     "output_type": "execute_result"
    }
   ],
   "source": [
    "os.listdir()"
   ]
  },
  {
   "cell_type": "code",
   "execution_count": 48,
   "id": "d6d029ff-cac0-4791-a643-c1bf6e96d957",
   "metadata": {},
   "outputs": [
    {
     "data": {
      "text/plain": [
       "'C:\\\\Users\\\\marjo\\\\gwu-virt-fin-pt-04-2021-u-c\\\\02-Homework\\\\19-Blockchain-Python\\\\Instructions\\\\Starter-Code'"
      ]
     },
     "execution_count": 48,
     "metadata": {},
     "output_type": "execute_result"
    }
   ],
   "source": [
    "pwd"
   ]
  },
  {
   "cell_type": "code",
   "execution_count": 1,
   "id": "4390df8c-0904-4190-85cf-5ac3899ebc3b",
   "metadata": {},
   "outputs": [
    {
     "name": "stdout",
     "output_type": "stream",
     "text": [
      "[WinError 2] The system cannot find the file specified: 'hd-wallet-derive'\n",
      "C:\\Users\\marjo\\gwu-virt-fin-pt-04-2021-u-c\\02-Homework\\19-Blockchain-Python\\Instructions\\Starter-Code\n"
     ]
    }
   ],
   "source": [
    "cd \"hd-wallet-derive\""
   ]
  },
  {
   "cell_type": "code",
   "execution_count": 43,
   "id": "11e8d064-d99b-4ad4-89da-54c9a06959c2",
   "metadata": {},
   "outputs": [
    {
     "data": {
      "text/plain": [
       "['.ipynb_checkpoints',\n",
       " 'blockchain.ipynb',\n",
       " 'constants.py',\n",
       " 'hd-wallet-derive.php',\n",
       " 'Untitled Folder']"
      ]
     },
     "execution_count": 43,
     "metadata": {},
     "output_type": "execute_result"
    }
   ],
   "source": [
    "os.listdir()"
   ]
  },
  {
   "cell_type": "code",
   "execution_count": null,
   "id": "4461af43-2d8a-4f77-ad69-f33d5352f03a",
   "metadata": {},
   "outputs": [],
   "source": []
  }
 ],
 "metadata": {
  "kernelspec": {
   "display_name": "Python 3 (ipykernel)",
   "language": "python",
   "name": "python3"
  },
  "language_info": {
   "codemirror_mode": {
    "name": "ipython",
    "version": 3
   },
   "file_extension": ".py",
   "mimetype": "text/x-python",
   "name": "python",
   "nbconvert_exporter": "python",
   "pygments_lexer": "ipython3",
   "version": "3.8.8"
  }
 },
 "nbformat": 4,
 "nbformat_minor": 5
}
